{
 "cells": [
  {
   "cell_type": "markdown",
   "metadata": {},
   "source": [
    "## Question 0"
   ]
  },
  {
   "cell_type": "code",
   "execution_count": 3,
   "metadata": {},
   "outputs": [],
   "source": [
    "import numpy as np\n",
    "import matplotlib.pyplot as plt"
   ]
  },
  {
   "cell_type": "markdown",
   "metadata": {},
   "source": [
    "## Question 1\n",
    "**A)**\n",
    "- Write a function with signature **VectorLength(x, y)** that computes the length of a vector, v with components in cartesian coordinates (x, y). i.e., $|v| = \\sqrt{x^2+y^2}$ \n",
    "- Use NumPy for the square root function"
   ]
  },
  {
   "cell_type": "code",
   "execution_count": 4,
   "metadata": {},
   "outputs": [],
   "source": [
    "def VectorLength(x,y):\n",
    "    v=np.sqrt(x**2+y**2)\n",
    "    return v"
   ]
  },
  {
   "cell_type": "markdown",
   "metadata": {},
   "source": [
    "**B)**\n",
    "- Using the **VectorLength(x, y)** function print the length of vectors with components $v = (5, 6)$ and $v = (-1, 5)$\n"
   ]
  },
  {
   "cell_type": "code",
   "execution_count": 6,
   "metadata": {},
   "outputs": [
    {
     "name": "stdout",
     "output_type": "stream",
     "text": [
      "The Length of the vector with components x = 5 and y = 6 is 7.810249675906654\n",
      "\n",
      "The Length of the vector with components x = -1 and y = 5 is 5.0990195135927845\n"
     ]
    }
   ],
   "source": [
    "print(\"The Length of the vector with components x = 5 and y = 6 is\", VectorLength(5,6))\n",
    "print(\"\\nThe Length of the vector with components x = -1 and y = 5 is\", VectorLength(-1,5))"
   ]
  },
  {
   "cell_type": "markdown",
   "metadata": {},
   "source": [
    "**C)**\n",
    "- Modify this command **print(\"Sin(1) = \" , np.sin(1))** to print the result to only three decimal places"
   ]
  },
  {
   "cell_type": "code",
   "execution_count": 13,
   "metadata": {},
   "outputs": [
    {
     "name": "stdout",
     "output_type": "stream",
     "text": [
      "Sin(1) = 0.841\n"
     ]
    }
   ],
   "source": [
    "print(\"Sin(1) =\" ,\"%.3f\" % np.sin(1))"
   ]
  },
  {
   "cell_type": "markdown",
   "metadata": {},
   "source": [
    "## Question 2"
   ]
  },
  {
   "cell_type": "code",
   "execution_count": 9,
   "metadata": {},
   "outputs": [],
   "source": [
    "# Function is to check if a number is prime\n",
    "def IsPrime(n):\n",
    "    i=2\n",
    "    while i < np.sqrt(n):\n",
    "        # For each i check if it divides n\n",
    "        if(n % i == 0):\n",
    "            return 0\n",
    "        i += 1\n",
    "    # If no divisors are found,the number is prime\n",
    "    return 1"
   ]
  },
  {
   "cell_type": "markdown",
   "metadata": {},
   "source": [
    "**A)**\n",
    "- Does the function work correctly? Check the values from 1 to 10"
   ]
  },
  {
   "cell_type": "code",
   "execution_count": 12,
   "metadata": {},
   "outputs": [
    {
     "name": "stdout",
     "output_type": "stream",
     "text": [
      "1 is a prime\n",
      "2 is a prime\n",
      "3 is a prime\n",
      "4 is a prime\n",
      "5 is a prime\n",
      "6 isn't a prime\n",
      "7 is a prime\n",
      "8 isn't a prime\n",
      "9 is a prime\n",
      "10 isn't a prime\n"
     ]
    }
   ],
   "source": [
    "for i in range (1,11):\n",
    "    if IsPrime(i)==1:\n",
    "        print(i, \"is a prime\")\n",
    "    else:\n",
    "        print(i, \"isn't a prime\")"
   ]
  },
  {
   "cell_type": "markdown",
   "metadata": {},
   "source": [
    "The function doesn't seem to work correctly for the number 1 and for square numbers"
   ]
  },
  {
   "cell_type": "markdown",
   "metadata": {},
   "source": [
    "**B)**\n",
    "-  At the start of the function add an if-statement to correct the n=1 case"
   ]
  },
  {
   "cell_type": "code",
   "execution_count": 15,
   "metadata": {},
   "outputs": [
    {
     "name": "stdout",
     "output_type": "stream",
     "text": [
      "1 isn't a prime\n",
      "2 is a prime\n",
      "3 is a prime\n",
      "4 is a prime\n",
      "5 is a prime\n",
      "6 isn't a prime\n",
      "7 is a prime\n",
      "8 isn't a prime\n",
      "9 is a prime\n",
      "10 isn't a prime\n"
     ]
    }
   ],
   "source": [
    "# Function is to check if a number is prime\n",
    "def IsPrime(n):\n",
    "    i=2\n",
    "    if n==1:\n",
    "        return 0\n",
    "    else:\n",
    "        while i < np.sqrt(n):\n",
    "            # For each i check if it divides n\n",
    "            if(n % i == 0):\n",
    "                return 0\n",
    "            i += 1\n",
    "    # If no divisors are found,the number is prime\n",
    "    return 1\n",
    "\n",
    "for i in range (1,11):\n",
    "    if IsPrime(i)==1:\n",
    "        print(i, \"is a prime\")\n",
    "    else:\n",
    "        print(i, \"isn't a prime\")"
   ]
  },
  {
   "cell_type": "markdown",
   "metadata": {},
   "source": [
    "**C)**\n",
    "- By putting a print statement inside the while loop, work out why the function returns, e.g., 1 for n=9. Fix the function to make it work. Write a comment that describes the fix."
   ]
  },
  {
   "cell_type": "code",
   "execution_count": 33,
   "metadata": {},
   "outputs": [
    {
     "name": "stdout",
     "output_type": "stream",
     "text": [
      "1 isn't a prime\n",
      "2 is a prime\n",
      "3 is a prime\n",
      "4 isn't a prime\n",
      "5 is a prime\n",
      "6 isn't a prime\n",
      "7 is a prime\n",
      "8 isn't a prime\n",
      "9 isn't a prime\n",
      "10 isn't a prime\n"
     ]
    }
   ],
   "source": [
    "def IsPrime(n):\n",
    "    i=2\n",
    "    if n==1:\n",
    "        return 0\n",
    "    else:\n",
    "        # Changing less than to less than or equal allows the function to check if square numbers are prime and return 0\n",
    "        while i <= np.sqrt(n):\n",
    "            # For each i check if it divides n\n",
    "            if(n % i == 0):\n",
    "                return 0\n",
    "            i += 1\n",
    "    # If no divisors are found,the number is prime\n",
    "    return 1\n",
    "\n",
    "for i in range (1,11):\n",
    "    if IsPrime(i)==1:\n",
    "        print(i, \"is a prime\")\n",
    "    else:\n",
    "        print(i, \"isn't a prime\")"
   ]
  },
  {
   "cell_type": "code",
   "execution_count": null,
   "metadata": {},
   "outputs": [],
   "source": []
  }
 ],
 "metadata": {
  "kernelspec": {
   "display_name": "Python 3",
   "language": "python",
   "name": "python3"
  },
  "language_info": {
   "codemirror_mode": {
    "name": "ipython",
    "version": 3
   },
   "file_extension": ".py",
   "mimetype": "text/x-python",
   "name": "python",
   "nbconvert_exporter": "python",
   "pygments_lexer": "ipython3",
   "version": "3.7.4"
  }
 },
 "nbformat": 4,
 "nbformat_minor": 2
}
