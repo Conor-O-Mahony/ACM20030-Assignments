{
 "cells": [
  {
   "cell_type": "markdown",
   "metadata": {},
   "source": [
    "#  Assignment 5\n",
    "\n",
    "This assignment covers material on matrices, norms, condition numbers and eigensystems.\n",
    "\n",
    "The breakdown of the marks is as follows:\n",
    "\n",
    "Question 0 - [1 mark]  \n",
    "Question 1 - [7 marks]  \n",
    "Questino 2 - [6 marks]  \n",
    "Question 3 - [7 marks]  \n",
    "Question 4 - [9 marks]  "
   ]
  },
  {
   "cell_type": "markdown",
   "metadata": {},
   "source": [
    "# Question 0\n",
    "\n",
    "You should have saved this notebook to your ACM20030-Assignments folder. Now:\n",
    "- commit the notebook to your local repository\n",
    "- push the changes to the GitHub"
   ]
  },
  {
   "cell_type": "code",
   "execution_count": 1,
   "metadata": {},
   "outputs": [],
   "source": [
    "import numpy as np\n",
    "from numpy import linalg as la\n",
    "np.set_printoptions(linewidth=200)  # This stops line wrapping of larger matrices"
   ]
  },
  {
   "cell_type": "markdown",
   "metadata": {},
   "source": [
    "# Question 1 - practice manipulating arrays\n",
    "\n",
    "This questions asks you write a few functions for manipulating arrays of data"
   ]
  },
  {
   "cell_type": "markdown",
   "metadata": {},
   "source": [
    "## Q1 a\n",
    "\n",
    "Write a function that checks if a given $n\\times n$ matrix is symmetric. Use only loops and `.shape` function from numpy (do not use any other special numpy functions)."
   ]
  },
  {
   "cell_type": "code",
   "execution_count": 179,
   "metadata": {},
   "outputs": [],
   "source": [
    "def SymmetryCheck(A):\n",
    "    (m, n) = A.shape\n",
    "    if (m!=n):\n",
    "        print(\"Matrix is not square\")\n",
    "        return\n",
    "    i=0\n",
    "    while i<(m-1):\n",
    "        x, y=A[i:,i], A[i,i:]\n",
    "        for j in range(1, len(x)):\n",
    "            if x[j]!=y[j]:\n",
    "                print(\"Matrix is not symmetric\")\n",
    "                return\n",
    "               \n",
    "        i+=1\n",
    "    print(\"Matrix is symmetric\")\n",
    "    return"
   ]
  },
  {
   "cell_type": "markdown",
   "metadata": {},
   "source": [
    "Test your function on the two matrices below"
   ]
  },
  {
   "cell_type": "code",
   "execution_count": 178,
   "metadata": {},
   "outputs": [],
   "source": [
    "A = np.random.rand(5,5)\n",
    "SymMatrix = (A + A.T)/2"
   ]
  },
  {
   "cell_type": "code",
   "execution_count": 180,
   "metadata": {},
   "outputs": [
    {
     "name": "stdout",
     "output_type": "stream",
     "text": [
      "Matrix is not symmetric\n",
      "Matrix is symmetric\n"
     ]
    }
   ],
   "source": [
    "#A\n",
    "SymmetryCheck(A)\n",
    "#SymMatrix\n",
    "SymmetryCheck(SymMatrix)"
   ]
  },
  {
   "cell_type": "markdown",
   "metadata": {},
   "source": [
    "## Q1 b\n",
    "\n",
    "Write a function to transpose a general $n\\times n$ matrix. Do this by writing loops and not using any special functions like `np.transpose()`, `A.T`, or any functions from any other library (`np.zeroes`, `np.ones`, `np.shape`, etc are all ok to use)."
   ]
  },
  {
   "cell_type": "code",
   "execution_count": 181,
   "metadata": {},
   "outputs": [],
   "source": [
    "def MatrixTranspose(A):\n",
    "    (m, n) = A.shape\n",
    "    if (m!=n):\n",
    "        print(\"Matrix is not square\")\n",
    "        return\n",
    "    i=0\n",
    "    while i<(m-1):\n",
    "        x, y=A[i:,i], A[i,i:]\n",
    "        for j in range(1, len(x)):\n",
    "            temp=y[j]\n",
    "            y[j]=x[j]\n",
    "            x[j]=temp\n",
    "               \n",
    "        i+=1\n",
    "    return A"
   ]
  },
  {
   "cell_type": "markdown",
   "metadata": {},
   "source": [
    "Check your code by transposing a matrix by checking that $A^T \\neq A$ and $(A^T)^T - A = 0$"
   ]
  },
  {
   "cell_type": "code",
   "execution_count": 182,
   "metadata": {
    "scrolled": false
   },
   "outputs": [
    {
     "name": "stdout",
     "output_type": "stream",
     "text": [
      "Matrix A\n",
      " [[9.82096606e-01 8.80075774e-01 2.29497018e-01 3.24814683e-01 4.52211234e-01 7.90409455e-01]\n",
      " [6.70526562e-01 7.64196764e-05 3.22292559e-01 9.11589413e-01 4.57393154e-01 9.57532184e-02]\n",
      " [3.45393510e-01 4.37679682e-01 5.10073654e-01 6.82617635e-02 2.15686427e-02 4.72108120e-01]\n",
      " [2.67619092e-01 5.13848484e-01 9.22928538e-01 5.82921319e-01 2.20506438e-01 2.87286240e-01]\n",
      " [2.01643022e-01 4.73187216e-01 2.76892666e-01 1.86582009e-01 8.47407190e-01 5.44007132e-02]\n",
      " [7.89358464e-01 1.41080353e-01 5.78215958e-01 9.29332745e-01 9.88725851e-02 9.86874073e-01]]\n",
      "Transpose of A\n",
      " [[9.82096606e-01 6.70526562e-01 3.45393510e-01 2.67619092e-01 2.01643022e-01 7.89358464e-01]\n",
      " [8.80075774e-01 7.64196764e-05 4.37679682e-01 5.13848484e-01 4.73187216e-01 1.41080353e-01]\n",
      " [2.29497018e-01 3.22292559e-01 5.10073654e-01 9.22928538e-01 2.76892666e-01 5.78215958e-01]\n",
      " [3.24814683e-01 9.11589413e-01 6.82617635e-02 5.82921319e-01 1.86582009e-01 9.29332745e-01]\n",
      " [4.52211234e-01 4.57393154e-01 2.15686427e-02 2.20506438e-01 8.47407190e-01 9.88725851e-02]\n",
      " [7.90409455e-01 9.57532184e-02 4.72108120e-01 2.87286240e-01 5.44007132e-02 9.86874073e-01]]\n",
      "A transpose transpose - A\n",
      " [[0. 0. 0. 0. 0. 0.]\n",
      " [0. 0. 0. 0. 0. 0.]\n",
      " [0. 0. 0. 0. 0. 0.]\n",
      " [0. 0. 0. 0. 0. 0.]\n",
      " [0. 0. 0. 0. 0. 0.]\n",
      " [0. 0. 0. 0. 0. 0.]]\n"
     ]
    }
   ],
   "source": [
    "A = np.random.rand(6,6);\n",
    "print(\"Matrix A\\n\",A)\n",
    "print(\"Transpose of A\\n\", MatrixTranspose(A))\n",
    "print(\"A transpose transpose - A\\n\", MatrixTranspose(MatrixTranspose(A))-A )"
   ]
  },
  {
   "cell_type": "markdown",
   "metadata": {},
   "source": [
    "## Q1c\n",
    "\n",
    "Write a function that finds the maximum entry in a matrix (where the matrix does not need to be square). Do this by writing loops and not using any special functions like `np.max` or any functions from any other library."
   ]
  },
  {
   "cell_type": "code",
   "execution_count": 183,
   "metadata": {},
   "outputs": [],
   "source": [
    "def MatrixMax(A):\n",
    "    i=0\n",
    "    m=A[0,0]\n",
    "    while i<A.shape[0]:\n",
    "        x=A[i,:]\n",
    "        for j in range(0, len(x)):\n",
    "            if x[j]>m:\n",
    "                m=x[j]\n",
    "        i+=1\n",
    "    return m"
   ]
  },
  {
   "cell_type": "markdown",
   "metadata": {},
   "source": [
    "Check your result by comparing to `np.max(A)` for the below random matrix"
   ]
  },
  {
   "cell_type": "code",
   "execution_count": 185,
   "metadata": {},
   "outputs": [
    {
     "name": "stdout",
     "output_type": "stream",
     "text": [
      "[[0.82170843 0.18300437 0.41093638 0.30631533 0.76366281]\n",
      " [0.66268586 0.99866055 0.71659201 0.1768582  0.84750006]\n",
      " [0.19226048 0.8271947  0.36282447 0.53632055 0.15385537]\n",
      " [0.31935135 0.27483946 0.83839599 0.86564441 0.20163126]] \n",
      "Maximum entry in A: 0.9986605475910155\n"
     ]
    }
   ],
   "source": [
    "A = np.random.rand(4,5)\n",
    "\n",
    "print(A,\"\\nMaximum entry in A:\",MatrixMax(A))"
   ]
  },
  {
   "cell_type": "markdown",
   "metadata": {},
   "source": [
    "Commit your notebook to git and push it to GitHub.\n",
    "\n",
    "# Question 2:  matrix norms\n",
    "\n",
    "In the lectures we focused on the $L^2$-norm. We also briefly mentioned the $L^1$ and $L^\\infty$ norm. Let's look at calculating those as well for a general $m\\times n$ matrix."
   ]
  },
  {
   "cell_type": "markdown",
   "metadata": {},
   "source": [
    "# Q2a\n",
    "\n",
    "The $L^1$ norm is given by\n",
    "\n",
    "$$ \\lVert A \\rVert_1 = \\max_j \\sum^m_{i=1} |a_{ij}| $$\n",
    "\n",
    "i.e., it is the max of the sums of the absolute values of each column. Write a function that computes the $L^1$-norm using only loops. The function should use no special numpy functions except `np.abs()` (`np.shape`, `np.inf`, etc are ok to use)."
   ]
  },
  {
   "cell_type": "code",
   "execution_count": 194,
   "metadata": {},
   "outputs": [],
   "source": [
    "def L1Norm(A):\n",
    "    i=0\n",
    "    n=0\n",
    "    while i<A.shape[1]:\n",
    "        m=0\n",
    "        x=A[:,i]\n",
    "        for j in range(0, len(x)):\n",
    "            m+=x[j]\n",
    "        if np.abs(m)>n:\n",
    "            n=np.abs(m)\n",
    "        i+=1\n",
    "    return n"
   ]
  },
  {
   "cell_type": "markdown",
   "metadata": {},
   "source": [
    "Check your result against NumPy's `la.norm(A,1)` function for the following random matrix"
   ]
  },
  {
   "cell_type": "code",
   "execution_count": 198,
   "metadata": {},
   "outputs": [
    {
     "name": "stdout",
     "output_type": "stream",
     "text": [
      "[[0.81419168 0.40023831 0.88128949 0.50037323]\n",
      " [0.29290425 0.00320649 0.15204955 0.48654342]\n",
      " [0.29519272 0.27556904 0.71284731 0.93374031]]\n",
      "Using L1Norm function, L1 norm = 1.9206569547503851\n",
      "Using la.norm(A,1), L1 norm = 1.9206569547503851\n"
     ]
    }
   ],
   "source": [
    "A = np.random.rand(3,4)\n",
    "print(A)\n",
    "print(\"Using L1Norm function, L1 norm =\",L1Norm(A))\n",
    "print(\"Using la.norm(A,1), L1 norm =\",la.norm(A,1))\n"
   ]
  },
  {
   "cell_type": "markdown",
   "metadata": {},
   "source": [
    "## Q2b\n",
    "\n",
    "The $L^\\infty$ norm is given by \n",
    "\n",
    "$$\\lVert A \\rVert_\\infty = \\max_i \\sum_{j=1}^n |a_{ij}|$$\n",
    "\n",
    "i.e., it is the max of the sums of the absolute values of each row. Write a function that computes the $L^\\infty$-norm using only loops and no special numpy functions."
   ]
  },
  {
   "cell_type": "code",
   "execution_count": 209,
   "metadata": {},
   "outputs": [],
   "source": [
    "def LinfNorm(A):\n",
    "    i=0\n",
    "    n=0\n",
    "    while i<A.shape[0]:\n",
    "        m=0\n",
    "        x=A[i,:]\n",
    "        for j in range(0, len(x)):\n",
    "            m+=x[j]\n",
    "        if np.abs(m)>n:\n",
    "            n=np.abs(m)\n",
    "        i+=1\n",
    "    return n"
   ]
  },
  {
   "cell_type": "markdown",
   "metadata": {},
   "source": [
    "Check your result against NumPy's `la.norm(A,np.inf)` function for the following random matrix"
   ]
  },
  {
   "cell_type": "code",
   "execution_count": 210,
   "metadata": {},
   "outputs": [
    {
     "name": "stdout",
     "output_type": "stream",
     "text": [
      "[[0.39406813 0.90042116 0.5476962  0.60864468]\n",
      " [0.73041947 0.80615239 0.53254636 0.26920755]\n",
      " [0.93999338 0.63749574 0.71560991 0.65788501]]\n",
      "Using LinfNorm function, L infinity norm = 2.9509840460480667\n",
      "Using la.norm(A,1), L infinity norm = 2.9509840460480667\n"
     ]
    }
   ],
   "source": [
    "A = np.random.rand(3,4)\n",
    "print(A)\n",
    "print(\"Using LinfNorm function, L infinity norm =\",LinfNorm(A))\n",
    "print(\"Using la.norm(A,1), L infinity norm =\",la.norm(A,np.inf))"
   ]
  },
  {
   "cell_type": "markdown",
   "metadata": {},
   "source": [
    "Commit your notebook to git and push it to GitHub.\n",
    "\n",
    "# Question 3: ill-conditions systems of equations\n",
    "\n",
    "In this question you can use any of NumPy's functions.\n",
    "\n",
    "## Q3a\n",
    "\n",
    "Which of the following three matrices, $A1, A2, A3$, are ill-conditioned. State the reason for your conclusion."
   ]
  },
  {
   "cell_type": "code",
   "execution_count": 7,
   "metadata": {},
   "outputs": [],
   "source": [
    "A1 = np.array([[ 2.852416473483e-01,  3.803483118694e-01,  2.697704226632e-01,  6.810611849029e-01],\n",
    "       [ 6.622827828376e-01,  6.447943415836e-01,  4.387842058829e-01,  1.530575702376e+00],\n",
    "       [ 3.672130860703e-01,  8.309522079704e-01,  9.975487474007e-01,  5.678296337101e-01],\n",
    "       [ 4.036490000599e-01,  6.865978225967e-06,  8.788095913773e-01, -7.150472427928e-02]])\n",
    "\n",
    "A2 = np.array([[0.988746460106, 0.351486109477, 0.024911477532, 0.384039749683],\n",
    "       [0.282104657306, 0.239884151775, 0.36170151991 , 0.903082266861],\n",
    "       [0.59333290915 , 0.637178863968, 0.241229214635, 0.685595037901],\n",
    "       [0.013591747828, 0.917926970364, 0.458689093885, 0.157821121254]])\n",
    "\n",
    "A3 = np.array([[0.131923621844, 0.245316154195, 0.732362341613, 0.957047891764],\n",
    "       [0.91290446184 , 0.512312007959, 0.391938831444, 0.092509684772],\n",
    "       [0.648708523652, 0.608576675797, 0.576773587276, 0.065385122929],\n",
    "       [0.502955480393, 0.084082960221, 0.659487390444, 0.662958739412]])"
   ]
  },
  {
   "cell_type": "code",
   "execution_count": null,
   "metadata": {},
   "outputs": [],
   "source": []
  },
  {
   "cell_type": "markdown",
   "metadata": {},
   "source": [
    "# Q3b\n",
    "\n",
    "With $b = [1,2,3,4]$ and $\\delta b = [0.1,0,0,0]$ for $A1$ and $A2$ calculate the percentage change in $x$ due to a small change in $b$, i.e., calculate \n",
    "\n",
    "$$100\\times\\frac{\\lVert \\delta x_i\\rVert_2}{\\lVert x_i \\rVert_2}\\quad\\text{and}\\quad 100\\times\\frac{\\lVert \\delta b\\rVert_2}{\\lVert b \\rVert_2}$$\n",
    "\n",
    "where $(x_i+\\delta x_i)  = A_i^{-1}(b+\\delta b)$ and $i\\in\\{1,2\\}$."
   ]
  },
  {
   "cell_type": "code",
   "execution_count": null,
   "metadata": {},
   "outputs": [],
   "source": []
  },
  {
   "cell_type": "markdown",
   "metadata": {},
   "source": [
    "Which system of equations is more sensitive to small changes in $b$? How could you have guessed this from the answer to the Q3a?"
   ]
  },
  {
   "cell_type": "code",
   "execution_count": 8,
   "metadata": {},
   "outputs": [],
   "source": [
    "# Answer here\n"
   ]
  },
  {
   "cell_type": "markdown",
   "metadata": {},
   "source": [
    "Commit your notebook to git and push it to GitHub.\n",
    "\n",
    "# Question 4: eigensystems\n",
    "\n",
    "In this question we look at finding eigenvalues and eigenvectors\n",
    "\n",
    "## Q4a\n",
    "\n",
    "You may use any of NumPy's functions for this sub-question.\n",
    "\n",
    "Find the eigenvalues and eigenvectors for the below matrix. Print out the eigenvalues sorted by descending value and explicitly show that eigenvalues/eigenvector pairs satisfy $Ax = \\lambda x$."
   ]
  },
  {
   "cell_type": "code",
   "execution_count": 50,
   "metadata": {},
   "outputs": [],
   "source": [
    "A = np.array([[1,4,5],[4,5,4],[6,7,9]])"
   ]
  },
  {
   "cell_type": "code",
   "execution_count": null,
   "metadata": {},
   "outputs": [],
   "source": []
  },
  {
   "cell_type": "markdown",
   "metadata": {},
   "source": [
    "# Q4b\n",
    "\n",
    "Without using NumPy's `la.eig()` (or similar functions), find the 4 eigenvalues and eigenvectors of the following matrix. Hint: Use the power method for the max eigenvalue (given below in `MaxEigenvalue`), the power method applied to the inverse for the smallest eigenvalue, and apply Hotelling's deflation twice to find the second and third eigenvalues/eigenvectors."
   ]
  },
  {
   "cell_type": "code",
   "execution_count": 20,
   "metadata": {},
   "outputs": [],
   "source": [
    "A = np.array([[2.65287619, 1.58615494, 1.47170961, 1.40586081],\n",
    "       [1.58615494, 1.17577323, 0.72084593, 0.79382861],\n",
    "       [1.47170961, 0.72084593, 1.18111969, 0.6654689 ],\n",
    "       [1.40586081, 0.79382861, 0.6654689 , 0.84502394]])"
   ]
  },
  {
   "cell_type": "code",
   "execution_count": 21,
   "metadata": {},
   "outputs": [],
   "source": []
  },
  {
   "cell_type": "code",
   "execution_count": null,
   "metadata": {},
   "outputs": [],
   "source": []
  },
  {
   "cell_type": "markdown",
   "metadata": {},
   "source": [
    "Check your answers against Numpy's results from `la.eig(A)`"
   ]
  },
  {
   "cell_type": "code",
   "execution_count": null,
   "metadata": {},
   "outputs": [],
   "source": []
  },
  {
   "cell_type": "code",
   "execution_count": null,
   "metadata": {},
   "outputs": [],
   "source": []
  },
  {
   "cell_type": "markdown",
   "metadata": {},
   "source": [
    "Commit your notebook to git and push it to GitHub. Upload your completed assignment to BrightSpace."
   ]
  }
 ],
 "metadata": {
  "kernelspec": {
   "display_name": "Python 3",
   "language": "python",
   "name": "python3"
  },
  "language_info": {
   "codemirror_mode": {
    "name": "ipython",
    "version": 3
   },
   "file_extension": ".py",
   "mimetype": "text/x-python",
   "name": "python",
   "nbconvert_exporter": "python",
   "pygments_lexer": "ipython3",
   "version": "3.7.4"
  }
 },
 "nbformat": 4,
 "nbformat_minor": 2
}
