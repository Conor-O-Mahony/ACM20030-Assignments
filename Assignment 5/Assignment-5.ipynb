{
 "cells": [
  {
   "cell_type": "markdown",
   "metadata": {},
   "source": [
    "#  Assignment 5\n",
    "\n",
    "This assignment covers material on matrices, norms, condition numbers and eigensystems.\n",
    "\n",
    "The breakdown of the marks is as follows:\n",
    "\n",
    "Question 0 - [1 mark]  \n",
    "Question 1 - [7 marks]  \n",
    "Questino 2 - [6 marks]  \n",
    "Question 3 - [7 marks]  \n",
    "Question 4 - [9 marks]  "
   ]
  },
  {
   "cell_type": "markdown",
   "metadata": {},
   "source": [
    "# Question 0\n",
    "\n",
    "You should have saved this notebook to your ACM20030-Assignments folder. Now:\n",
    "- commit the notebook to your local repository\n",
    "- push the changes to the GitHub"
   ]
  },
  {
   "cell_type": "code",
   "execution_count": 3,
   "metadata": {},
   "outputs": [],
   "source": [
    "import numpy as np\n",
    "from numpy import linalg as la\n",
    "np.set_printoptions(linewidth=200)  # This stops line wrapping of larger matrices"
   ]
  },
  {
   "cell_type": "markdown",
   "metadata": {},
   "source": [
    "# Question 1 - practice manipulating arrays\n",
    "\n",
    "This questions asks you write a few functions for manipulating arrays of data"
   ]
  },
  {
   "cell_type": "markdown",
   "metadata": {},
   "source": [
    "## Q1 a\n",
    "\n",
    "Write a function that checks if a given $n\\times n$ matrix is symmetric. Use only loops and `.shape` function from numpy (do not use any other special numpy functions)."
   ]
  },
  {
   "cell_type": "code",
   "execution_count": 4,
   "metadata": {},
   "outputs": [],
   "source": [
    "def SymmetryCheck(A):\n",
    "    (m, n) = A.shape\n",
    "    if (m!=n):\n",
    "        print(\"Matrix is not square\")\n",
    "        return\n",
    "    i=0\n",
    "    while i<(m-1):\n",
    "        x, y=A[i:,i], A[i,i:]\n",
    "        for j in range(1, len(x)):\n",
    "            if x[j]!=y[j]:\n",
    "                print(\"Matrix is not symmetric\")\n",
    "                return\n",
    "               \n",
    "        i+=1\n",
    "    print(\"Matrix is symmetric\")\n",
    "    return"
   ]
  },
  {
   "cell_type": "markdown",
   "metadata": {},
   "source": [
    "Test your function on the two matrices below"
   ]
  },
  {
   "cell_type": "code",
   "execution_count": 5,
   "metadata": {},
   "outputs": [],
   "source": [
    "A = np.random.rand(5,5)\n",
    "SymMatrix = (A + A.T)/2"
   ]
  },
  {
   "cell_type": "code",
   "execution_count": 6,
   "metadata": {},
   "outputs": [
    {
     "name": "stdout",
     "output_type": "stream",
     "text": [
      "Matrix is not symmetric\n",
      "Matrix is symmetric\n"
     ]
    }
   ],
   "source": [
    "#A\n",
    "SymmetryCheck(A)\n",
    "#SymMatrix\n",
    "SymmetryCheck(SymMatrix)"
   ]
  },
  {
   "cell_type": "markdown",
   "metadata": {},
   "source": [
    "## Q1 b\n",
    "\n",
    "Write a function to transpose a general $n\\times n$ matrix. Do this by writing loops and not using any special functions like `np.transpose()`, `A.T`, or any functions from any other library (`np.zeroes`, `np.ones`, `np.shape`, etc are all ok to use)."
   ]
  },
  {
   "cell_type": "code",
   "execution_count": 7,
   "metadata": {},
   "outputs": [],
   "source": [
    "def MatrixTranspose(A):\n",
    "    (m, n) = A.shape\n",
    "    if (m!=n):\n",
    "        print(\"Matrix is not square\")\n",
    "        return\n",
    "    i=0\n",
    "    while i<(m-1):\n",
    "        x, y=A[i:,i], A[i,i:]\n",
    "        for j in range(1, len(x)):\n",
    "            temp=y[j]\n",
    "            y[j]=x[j]\n",
    "            x[j]=temp\n",
    "               \n",
    "        i+=1\n",
    "    return A"
   ]
  },
  {
   "cell_type": "markdown",
   "metadata": {},
   "source": [
    "Check your code by transposing a matrix by checking that $A^T \\neq A$ and $(A^T)^T - A = 0$"
   ]
  },
  {
   "cell_type": "code",
   "execution_count": 10,
   "metadata": {
    "scrolled": false
   },
   "outputs": [
    {
     "name": "stdout",
     "output_type": "stream",
     "text": [
      "Matrix A\n",
      " [[0.36327056 0.02060262 0.56113095 0.10396628 0.54828743 0.21763523]\n",
      " [0.2841513  0.18952878 0.65258585 0.17760009 0.81536361 0.29798831]\n",
      " [0.64948641 0.63581716 0.52222509 0.78913241 0.53205611 0.62652152]\n",
      " [0.1793684  0.99327301 0.42656026 0.4201772  0.60764154 0.01525638]\n",
      " [0.31329866 0.42130983 0.19383268 0.88354929 0.40019846 0.13747917]\n",
      " [0.32121828 0.85175026 0.7425516  0.92060316 0.81199252 0.12250838]]\n",
      "Transpose of A\n",
      " [[0.36327056 0.2841513  0.64948641 0.1793684  0.31329866 0.32121828]\n",
      " [0.02060262 0.18952878 0.63581716 0.99327301 0.42130983 0.85175026]\n",
      " [0.56113095 0.65258585 0.52222509 0.42656026 0.19383268 0.7425516 ]\n",
      " [0.10396628 0.17760009 0.78913241 0.4201772  0.88354929 0.92060316]\n",
      " [0.54828743 0.81536361 0.53205611 0.60764154 0.40019846 0.81199252]\n",
      " [0.21763523 0.29798831 0.62652152 0.01525638 0.13747917 0.12250838]]\n",
      "(A transpose)transpose - A\n",
      " [[0. 0. 0. 0. 0. 0.]\n",
      " [0. 0. 0. 0. 0. 0.]\n",
      " [0. 0. 0. 0. 0. 0.]\n",
      " [0. 0. 0. 0. 0. 0.]\n",
      " [0. 0. 0. 0. 0. 0.]\n",
      " [0. 0. 0. 0. 0. 0.]]\n"
     ]
    }
   ],
   "source": [
    "A = np.random.rand(6,6);\n",
    "print(\"Matrix A\\n\",A)\n",
    "print(\"Transpose of A\\n\", MatrixTranspose(A))\n",
    "print(\"(A transpose)transpose - A\\n\", MatrixTranspose(MatrixTranspose(A))-A )"
   ]
  },
  {
   "cell_type": "markdown",
   "metadata": {},
   "source": [
    "## Q1c\n",
    "\n",
    "Write a function that finds the maximum entry in a matrix (where the matrix does not need to be square). Do this by writing loops and not using any special functions like `np.max` or any functions from any other library."
   ]
  },
  {
   "cell_type": "code",
   "execution_count": 11,
   "metadata": {},
   "outputs": [],
   "source": [
    "def MatrixMax(A):\n",
    "    i=0\n",
    "    m=A[0,0]\n",
    "    while i<A.shape[0]:\n",
    "        x=A[i,:]\n",
    "        for j in range(0, len(x)):\n",
    "            if x[j]>m:\n",
    "                m=x[j]\n",
    "        i+=1\n",
    "    return m"
   ]
  },
  {
   "cell_type": "markdown",
   "metadata": {},
   "source": [
    "Check your result by comparing to `np.max(A)` for the below random matrix"
   ]
  },
  {
   "cell_type": "code",
   "execution_count": 15,
   "metadata": {},
   "outputs": [
    {
     "name": "stdout",
     "output_type": "stream",
     "text": [
      "[[0.29764362 0.56282327 0.09734183 0.87326859 0.78907338]\n",
      " [0.67092081 0.22381049 0.33472664 0.2363807  0.00716529]\n",
      " [0.53905054 0.86380607 0.45156324 0.15278741 0.65371346]\n",
      " [0.90994064 0.80118709 0.00783161 0.16711729 0.26790016]] \n",
      "Maximum entry in A: 0.9099406390385743\n",
      "From np.max(A): 0.9099406390385743\n"
     ]
    }
   ],
   "source": [
    "A = np.random.rand(4,5)\n",
    "\n",
    "print(A,\"\\nMaximum entry in A:\",MatrixMax(A))\n",
    "print(\"From np.max(A):\", np.max(A))"
   ]
  },
  {
   "cell_type": "markdown",
   "metadata": {},
   "source": [
    "Commit your notebook to git and push it to GitHub.\n",
    "\n",
    "# Question 2:  matrix norms\n",
    "\n",
    "In the lectures we focused on the $L^2$-norm. We also briefly mentioned the $L^1$ and $L^\\infty$ norm. Let's look at calculating those as well for a general $m\\times n$ matrix."
   ]
  },
  {
   "cell_type": "markdown",
   "metadata": {},
   "source": [
    "# Q2a\n",
    "\n",
    "The $L^1$ norm is given by\n",
    "\n",
    "$$ \\lVert A \\rVert_1 = \\max_j \\sum^m_{i=1} |a_{ij}| $$\n",
    "\n",
    "i.e., it is the max of the sums of the absolute values of each column. Write a function that computes the $L^1$-norm using only loops. The function should use no special numpy functions except `np.abs()` (`np.shape`, `np.inf`, etc are ok to use)."
   ]
  },
  {
   "cell_type": "code",
   "execution_count": 16,
   "metadata": {},
   "outputs": [],
   "source": [
    "def L1Norm(A):\n",
    "    i=0\n",
    "    n=0\n",
    "    while i<A.shape[1]:\n",
    "        m=0\n",
    "        x=A[:,i]\n",
    "        for j in range(0, len(x)):\n",
    "            m+=x[j]\n",
    "        if np.abs(m)>n:\n",
    "            n=np.abs(m)\n",
    "        i+=1\n",
    "    return n"
   ]
  },
  {
   "cell_type": "markdown",
   "metadata": {},
   "source": [
    "Check your result against NumPy's `la.norm(A,1)` function for the following random matrix"
   ]
  },
  {
   "cell_type": "code",
   "execution_count": 20,
   "metadata": {},
   "outputs": [
    {
     "name": "stdout",
     "output_type": "stream",
     "text": [
      "[[0.28980424 0.62147454 0.76663447 0.10587598]\n",
      " [0.52308515 0.40117613 0.99883655 0.61516134]\n",
      " [0.26639376 0.22282019 0.2788635  0.2573484 ]]\n",
      "Using L1Norm function, L1 norm = 2.044334514699379\n",
      "Using la.norm(A,1), L1 norm = 2.044334514699379\n"
     ]
    }
   ],
   "source": [
    "A = np.random.rand(3,4)\n",
    "print(A)\n",
    "print(\"Using L1Norm function, L1 norm =\",L1Norm(A))\n",
    "print(\"Using la.norm(A,1), L1 norm =\",la.norm(A,1))\n"
   ]
  },
  {
   "cell_type": "markdown",
   "metadata": {},
   "source": [
    "## Q2b\n",
    "\n",
    "The $L^\\infty$ norm is given by \n",
    "\n",
    "$$\\lVert A \\rVert_\\infty = \\max_i \\sum_{j=1}^n |a_{ij}|$$\n",
    "\n",
    "i.e., it is the max of the sums of the absolute values of each row. Write a function that computes the $L^\\infty$-norm using only loops and no special numpy functions."
   ]
  },
  {
   "cell_type": "code",
   "execution_count": 21,
   "metadata": {},
   "outputs": [],
   "source": [
    "def LinfNorm(A):\n",
    "    i=0\n",
    "    n=0\n",
    "    while i<A.shape[0]:\n",
    "        m=0\n",
    "        x=A[i,:]\n",
    "        for j in range(0, len(x)):\n",
    "            m+=x[j]\n",
    "        if np.abs(m)>n:\n",
    "            n=np.abs(m)\n",
    "        i+=1\n",
    "    return n"
   ]
  },
  {
   "cell_type": "markdown",
   "metadata": {},
   "source": [
    "Check your result against NumPy's `la.norm(A,np.inf)` function for the following random matrix"
   ]
  },
  {
   "cell_type": "code",
   "execution_count": 22,
   "metadata": {},
   "outputs": [
    {
     "name": "stdout",
     "output_type": "stream",
     "text": [
      "[[0.58761567 0.59931307 0.02361257 0.25363065]\n",
      " [0.07670831 0.42451674 0.16821347 0.23651875]\n",
      " [0.90321026 0.49054779 0.8681444  0.33281239]]\n",
      "Using LinfNorm function, L infinity norm = 2.594714843168473\n",
      "Using la.norm(A,np.inf), L infinity norm = 2.594714843168473\n"
     ]
    }
   ],
   "source": [
    "A = np.random.rand(3,4)\n",
    "print(A)\n",
    "print(\"Using LinfNorm function, L infinity norm =\",LinfNorm(A))\n",
    "print(\"Using la.norm(A,np.inf), L infinity norm =\",la.norm(A,np.inf))"
   ]
  },
  {
   "cell_type": "markdown",
   "metadata": {},
   "source": [
    "Commit your notebook to git and push it to GitHub.\n",
    "\n",
    "# Question 3: ill-conditions systems of equations\n",
    "\n",
    "In this question you can use any of NumPy's functions.\n",
    "\n",
    "## Q3a\n",
    "\n",
    "Which of the following three matrices, $A1, A2, A3$, are ill-conditioned. State the reason for your conclusion."
   ]
  },
  {
   "cell_type": "code",
   "execution_count": 23,
   "metadata": {},
   "outputs": [],
   "source": [
    "A1 = np.array([[ 2.852416473483e-01,  3.803483118694e-01,  2.697704226632e-01,  6.810611849029e-01],\n",
    "       [ 6.622827828376e-01,  6.447943415836e-01,  4.387842058829e-01,  1.530575702376e+00],\n",
    "       [ 3.672130860703e-01,  8.309522079704e-01,  9.975487474007e-01,  5.678296337101e-01],\n",
    "       [ 4.036490000599e-01,  6.865978225967e-06,  8.788095913773e-01, -7.150472427928e-02]])\n",
    "\n",
    "A2 = np.array([[0.988746460106, 0.351486109477, 0.024911477532, 0.384039749683],\n",
    "       [0.282104657306, 0.239884151775, 0.36170151991 , 0.903082266861],\n",
    "       [0.59333290915 , 0.637178863968, 0.241229214635, 0.685595037901],\n",
    "       [0.013591747828, 0.917926970364, 0.458689093885, 0.157821121254]])\n",
    "\n",
    "A3 = np.array([[0.131923621844, 0.245316154195, 0.732362341613, 0.957047891764],\n",
    "       [0.91290446184 , 0.512312007959, 0.391938831444, 0.092509684772],\n",
    "       [0.648708523652, 0.608576675797, 0.576773587276, 0.065385122929],\n",
    "       [0.502955480393, 0.084082960221, 0.659487390444, 0.662958739412]])"
   ]
  },
  {
   "cell_type": "code",
   "execution_count": 24,
   "metadata": {},
   "outputs": [
    {
     "name": "stdout",
     "output_type": "stream",
     "text": [
      "Condition number for A1 13334923332.407896\n",
      "Condition number for A2 21.55246648838186\n",
      "Condition number for A3 15.122449699410625\n"
     ]
    }
   ],
   "source": [
    "print(\"Condition number for A1\", la.norm(A1,2)*la.norm(la.inv(A1),2))\n",
    "print(\"Condition number for A2\", la.norm(A2,2)*la.norm(la.inv(A2),2))\n",
    "print(\"Condition number for A3\", la.norm(A3,2)*la.norm(la.inv(A3),2))"
   ]
  },
  {
   "cell_type": "markdown",
   "metadata": {},
   "source": [
    "- From this, we can conclude that A1 is ill-conditioned as it's condition number is very large. If we attempt to invert this matrix, this may result in numbers rounding to 0 which would result in errors in our code. The condition number for A2 and A3 is relatively low, so they are not ill-conditioned."
   ]
  },
  {
   "cell_type": "markdown",
   "metadata": {},
   "source": [
    "# Q3b\n",
    "\n",
    "With $b = [1,2,3,4]$ and $\\delta b = [0.1,0,0,0]$ for $A1$ and $A2$ calculate the percentage change in $x$ due to a small change in $b$, i.e., calculate \n",
    "\n",
    "$$100\\times\\frac{\\lVert \\delta x_i\\rVert_2}{\\lVert x_i \\rVert_2}\\quad\\text{and}\\quad 100\\times\\frac{\\lVert \\delta b\\rVert_2}{\\lVert b \\rVert_2}$$\n",
    "\n",
    "where $(x_i+\\delta x_i)  = A_i^{-1}(b+\\delta b)$ and $i\\in\\{1,2\\}$."
   ]
  },
  {
   "cell_type": "code",
   "execution_count": 25,
   "metadata": {},
   "outputs": [
    {
     "name": "stdout",
     "output_type": "stream",
     "text": [
      "Percentage change in b 1.8257418583505536\n",
      "Percentage change in x for A1 512.6206098890684\n",
      "Percentage change in x for A2 10.483582220338967\n",
      "Percentage change in x for A3 2.173811243421905\n"
     ]
    }
   ],
   "source": [
    "def GaussianElimination(A, b): \n",
    "    n = A.shape[1]\n",
    "    \n",
    "    # Append the vector b as a column to the matrix A\n",
    "    A1 = np.c_[A,b]\n",
    "    \n",
    "    i = 0\n",
    "    while i < n - 1:\n",
    "        j = i+1\n",
    "        while j < n:\n",
    "            A1[j, i+1:] = A1[j, i+1:] - A1[i, i+1:]*A1[j,i]/A1[i,i]\n",
    "            j += 1\n",
    "        i += 1\n",
    "        \n",
    "    x = np.zeros(n)\n",
    "    \n",
    "    i = n-1\n",
    "    while i >= 0:\n",
    "        j = i\n",
    "        x[i] = A1[i,n]\n",
    "        while j < n-1:\n",
    "            x[i] -= A1[i,j+1]*x[j+1]\n",
    "            j += 1\n",
    "        x[i] = x[i]/A1[i,i]\n",
    "        i -= 1\n",
    "    \n",
    "    return x\n",
    "\n",
    "b=np.array([1,2,3,4])\n",
    "deltab=np.array([0.1,0,0,0])\n",
    "print(\"Percentage change in b\",la.norm(deltab,2)/la.norm(b,2)*100)\n",
    "\n",
    "x=GaussianElimination(A1, b)\n",
    "x1=GaussianElimination(A1, b+deltab)\n",
    "print(\"Percentage change in x for A1\",la.norm(x1-x,2)/la.norm(x,2)*100)\n",
    "\n",
    "x=GaussianElimination(A2, b)\n",
    "x1=GaussianElimination(A2, b+deltab)\n",
    "print(\"Percentage change in x for A2\",la.norm(x1-x,2)/la.norm(x,2)*100)\n",
    "\n",
    "x=GaussianElimination(A3, b)\n",
    "x1=GaussianElimination(A3, b+deltab)\n",
    "print(\"Percentage change in x for A3\",la.norm(x1-x,2)/la.norm(x,2)*100)"
   ]
  },
  {
   "cell_type": "markdown",
   "metadata": {},
   "source": [
    "Which system of equations is more sensitive to small changes in $b$? How could you have guessed this from the answer to the Q3a?"
   ]
  },
  {
   "cell_type": "markdown",
   "metadata": {},
   "source": [
    "- System A1 is most sensitive to small changes in b. This could have been predicted from part a.) as it has the largest condition number and is hence ill-conditioned."
   ]
  },
  {
   "cell_type": "markdown",
   "metadata": {},
   "source": [
    "Commit your notebook to git and push it to GitHub.\n",
    "\n",
    "# Question 4: eigensystems\n",
    "\n",
    "In this question we look at finding eigenvalues and eigenvectors\n",
    "\n",
    "## Q4a\n",
    "\n",
    "You may use any of NumPy's functions for this sub-question.\n",
    "\n",
    "Find the eigenvalues and eigenvectors for the below matrix. Print out the eigenvalues sorted by descending value and explicitly show that eigenvalues/eigenvector pairs satisfy $Ax = \\lambda x$."
   ]
  },
  {
   "cell_type": "code",
   "execution_count": 26,
   "metadata": {},
   "outputs": [],
   "source": [
    "A = np.array([[1,4,5],[4,5,4],[6,7,9]])"
   ]
  },
  {
   "cell_type": "code",
   "execution_count": 48,
   "metadata": {},
   "outputs": [
    {
     "name": "stdout",
     "output_type": "stream",
     "text": [
      "Eigenvalues = [15.78569318  1.26595327 -2.05164645]\n",
      "Eigenvectors =\n",
      " [[-0.39252008 -0.89589878  0.09818766]\n",
      " [-0.44424151  0.36255198 -0.77454142]\n",
      " [-0.80534308  0.25675168  0.6248558 ]]\n",
      "Ax - Lambdax\n",
      "[-3.55271368e-15 -3.55271368e-15  1.77635684e-15]\n",
      "[ 4.44089210e-16  1.44328993e-15 -1.11022302e-16]\n",
      "[-1.55431223e-15 -1.11022302e-15 -1.66533454e-15]\n",
      "Rounded Ax - Lambdax\n",
      "[[0. 0. 0.]]\n",
      "[[0. 0. 0.]]\n",
      "[[0. 0. 0.]]\n"
     ]
    }
   ],
   "source": [
    "eigenSystem = la.eig(A)\n",
    "\n",
    "lambdax=eigenSystem[0]\n",
    "x=eigenSystem[1]\n",
    "sortedlambda=-np.sort(-lambdax)\n",
    "\n",
    "print(\"Eigenvalues =\", sortedlambda)\n",
    "print(\"Eigenvectors =\\n\", x)\n",
    "\n",
    "print(\"Ax - Lambdax\")\n",
    "for i in range(0,3):\n",
    "    print(np.dot(A,x[:,i])-np.dot(lambdax[i],x[:,i]))\n",
    "    \n",
    "print(\"Rounded Ax - Lambdax\")\n",
    "for i in range(0,3):\n",
    "    print(np.round(np.abs(np.matrix(np.dot(A,x[:,i])-np.dot(lambdax[i],x[:,i])))))"
   ]
  },
  {
   "cell_type": "markdown",
   "metadata": {},
   "source": [
    "# Q4b\n",
    "\n",
    "Without using NumPy's `la.eig()` (or similar functions), find the 4 eigenvalues and eigenvectors of the following matrix. Hint: Use the power method for the max eigenvalue (given below in `MaxEigenvalue`), the power method applied to the inverse for the smallest eigenvalue, and apply Hotelling's deflation twice to find the second and third eigenvalues/eigenvectors."
   ]
  },
  {
   "cell_type": "code",
   "execution_count": 49,
   "metadata": {},
   "outputs": [],
   "source": [
    "A = np.array([[2.65287619, 1.58615494, 1.47170961, 1.40586081],\n",
    "       [1.58615494, 1.17577323, 0.72084593, 0.79382861],\n",
    "       [1.47170961, 0.72084593, 1.18111969, 0.6654689 ],\n",
    "       [1.40586081, 0.79382861, 0.6654689 , 0.84502394]])"
   ]
  },
  {
   "cell_type": "code",
   "execution_count": 50,
   "metadata": {},
   "outputs": [],
   "source": [
    "def MaxEigenvalue(A, err):\n",
    "    (m,n) = A.shape\n",
    "    if(m != n):\n",
    "        print(\"Matrix must be square\")\n",
    "        return\n",
    "    \n",
    "    # Create a random initial vector\n",
    "    x = np.random.rand(m)\n",
    "    \n",
    "    lam = 0.1\n",
    "    lamprev = 1\n",
    "    while np.abs(1-lam/lamprev) > err:\n",
    "        Ax      = A@x\n",
    "        lamprev = lam\n",
    "        lam = la.norm(Ax,2)/la.norm(x,2)\n",
    "        x = Ax\n",
    "        \n",
    "    x = x/la.norm(x)\n",
    "    return (lam,x)"
   ]
  },
  {
   "cell_type": "code",
   "execution_count": 51,
   "metadata": {},
   "outputs": [
    {
     "name": "stdout",
     "output_type": "stream",
     "text": [
      "Eigenvalues in decending order: 5.172971199844757 0.4816692703106071 0.1986227826809928 0.0015297971635957433\n"
     ]
    }
   ],
   "source": [
    "largestEigen = MaxEigenvalue(A, 1e-14)[0]\n",
    "lmin = 1/(MaxEigenvalue(la.inv(A), 1e-14)[0])\n",
    "\n",
    "e1 = MaxEigenvalue(A, 1e-14)[1]\n",
    "B = A - largestEigen*np.outer(e1, e1)\n",
    "lsecond = MaxEigenvalue(B, 1e-12)\n",
    "\n",
    "e2 = MaxEigenvalue(B, 1e-14)[1]\n",
    "C = B - MaxEigenvalue(B, 1e-14)[0]*np.outer(e2, e2)\n",
    "lthird = MaxEigenvalue(C, 1e-12)\n",
    "\n",
    "print(\"Eigenvalues in decending order:\",largestEigen,lsecond[0],lthird[0],lmin)"
   ]
  },
  {
   "cell_type": "markdown",
   "metadata": {},
   "source": [
    "Check your answers against Numpy's results from `la.eig(A)`"
   ]
  },
  {
   "cell_type": "code",
   "execution_count": 77,
   "metadata": {},
   "outputs": [
    {
     "name": "stdout",
     "output_type": "stream",
     "text": [
      "Eigenvalues from la.eig(A): 5.17297119984476, 0.001529797163595248, 0.19862278268099265, 0.48166927031065465\n"
     ]
    }
   ],
   "source": [
    "print(\"Eigenvalues from la.eig(A):\", \", \".join(list(str(la.eig(A)[0][i]) for i in range(0,len(la.eig(A)[0])))))"
   ]
  },
  {
   "cell_type": "code",
   "execution_count": null,
   "metadata": {},
   "outputs": [],
   "source": []
  },
  {
   "cell_type": "markdown",
   "metadata": {},
   "source": [
    "Commit your notebook to git and push it to GitHub. Upload your completed assignment to BrightSpace."
   ]
  }
 ],
 "metadata": {
  "kernelspec": {
   "display_name": "Python 3",
   "language": "python",
   "name": "python3"
  },
  "language_info": {
   "codemirror_mode": {
    "name": "ipython",
    "version": 3
   },
   "file_extension": ".py",
   "mimetype": "text/x-python",
   "name": "python",
   "nbconvert_exporter": "python",
   "pygments_lexer": "ipython3",
   "version": "3.7.4"
  }
 },
 "nbformat": 4,
 "nbformat_minor": 2
}
